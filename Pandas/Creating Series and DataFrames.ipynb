{
 "cells": [
  {
   "cell_type": "markdown",
   "metadata": {},
   "source": [
    "### Imports"
   ]
  },
  {
   "cell_type": "code",
   "execution_count": 1,
   "metadata": {
    "collapsed": true
   },
   "outputs": [],
   "source": [
    "import pandas as pd\n",
    "import numpy as np"
   ]
  },
  {
   "cell_type": "markdown",
   "metadata": {},
   "source": [
    "### Creating a Series"
   ]
  },
  {
   "cell_type": "code",
   "execution_count": 2,
   "metadata": {},
   "outputs": [
    {
     "name": "stdout",
     "output_type": "stream",
     "text": [
      "0            1\n",
      "1          tom\n",
      "2           32\n",
      "3    qualified\n",
      "dtype: object\n"
     ]
    }
   ],
   "source": [
    "# From a list, without passing any index\n",
    "s1 = pd.Series([1, 'tom', 32, 'qualified'])\n",
    "print(s1)"
   ]
  },
  {
   "cell_type": "code",
   "execution_count": 3,
   "metadata": {},
   "outputs": [
    {
     "name": "stdout",
     "output_type": "stream",
     "text": [
      "number            1\n",
      "name            tom\n",
      "age              32\n",
      "status    qualified\n",
      "dtype: object\n"
     ]
    }
   ],
   "source": [
    "# From a list, with an index\n",
    "s2 = pd.Series([1, 'tom', 32, 'qualified'], index=['number', 'name', 'age', 'status'])\n",
    "print(s2)"
   ]
  },
  {
   "cell_type": "code",
   "execution_count": 4,
   "metadata": {},
   "outputs": [
    {
     "name": "stdout",
     "output_type": "stream",
     "text": [
      "first       1\n",
      "second    345\n",
      "third      14\n",
      "fourth     24\n",
      "fifth      12\n",
      "dtype: int64\n"
     ]
    }
   ],
   "source": [
    "# From a list of integer values, with an index\n",
    "s3 = pd.Series([1, 345, 14, 24, 12], index=['first', 'second', 'third', 'fourth', 'fifth'])\n",
    "print(s3)"
   ]
  },
  {
   "cell_type": "code",
   "execution_count": 5,
   "metadata": {},
   "outputs": [
    {
     "name": "stdout",
     "output_type": "stream",
     "text": [
      "number            1\n",
      "name            tom\n",
      "age              32\n",
      "status    qualified\n",
      "dtype: object\n"
     ]
    }
   ],
   "source": [
    "# From a dict of key-value pairs\n",
    "s4 = pd.Series({'number':1, 'name':'tom', 'age':32, 'status':'qualified'})\n",
    "print(s4)"
   ]
  },
  {
   "cell_type": "markdown",
   "metadata": {},
   "source": [
    "### Creating a DataFrame"
   ]
  },
  {
   "cell_type": "code",
   "execution_count": 6,
   "metadata": {},
   "outputs": [
    {
     "name": "stdout",
     "output_type": "stream",
     "text": [
      "       col1      col2      col3      col4      col5\n",
      "0  3.745401  9.507143  7.319939  5.986585  1.560186\n",
      "1  1.559945  0.580836  8.661761  6.011150  7.080726\n",
      "2  0.205845  9.699099  8.324426  2.123391  1.818250\n",
      "3  1.834045  3.042422  5.247564  4.319450  2.912291\n",
      "4  6.118529  1.394939  2.921446  3.663618  4.560700\n",
      "5  7.851760  1.996738  5.142344  5.924146  0.464504\n",
      "6  6.075449  1.705241  0.650516  9.488855  9.656320\n"
     ]
    }
   ],
   "source": [
    "# Create a random 7 x 5 numpy ndarray\n",
    "np.random.seed(42) # set a seed so that the same random numbers are generated each time\n",
    "np_array = 10 * np.random.rand(7, 5)\n",
    " \n",
    "# Create a list of 5 column labels\n",
    "cols = ['col1', 'col2', 'col3', 'col4', 'col5']\n",
    " \n",
    "# Create the DataFrame\n",
    "ndf = pd.DataFrame(data=np_array, columns=cols)\n",
    " \n",
    "# Display dataframe\n",
    "print(ndf)"
   ]
  },
  {
   "cell_type": "code",
   "execution_count": 7,
   "metadata": {
    "collapsed": true
   },
   "outputs": [],
   "source": [
    "# make three Series'\n",
    "s1 = pd.Series([10, 20, 30, 40, 50])\n",
    "s2 = pd.Series(['a', 'b', 'c', 'd', 'e'])\n",
    "s3 = pd.Series(['one', 'two', 'three', 'four', 'five'])\n",
    " \n",
    "# create a dict \n",
    "data_dict = {'col1': s1, 'col2': s2, 'col3': s3}"
   ]
  },
  {
   "cell_type": "code",
   "execution_count": 8,
   "metadata": {},
   "outputs": [
    {
     "name": "stdout",
     "output_type": "stream",
     "text": [
      "   col1 col2   col3\n",
      "0    10    a    one\n",
      "1    20    b    two\n",
      "2    30    c  three\n",
      "3    40    d   four\n",
      "4    50    e   five\n"
     ]
    }
   ],
   "source": [
    "# create dataframe\n",
    "df = pd.DataFrame(data=data_dict)\n",
    "# display dataframe\n",
    "print(df)"
   ]
  },
  {
   "cell_type": "code",
   "execution_count": 9,
   "metadata": {},
   "outputs": [
    {
     "name": "stdout",
     "output_type": "stream",
     "text": [
      "   col1 col2\n",
      "0    10    a\n",
      "1    20    b\n",
      "2    30    c\n",
      "3    40    d\n",
      "4    50    e\n"
     ]
    }
   ],
   "source": [
    "# data_dict same as defined earlier\n",
    " \n",
    "# create a list of columns_labes\n",
    "cols = ['col1', 'col2']\n",
    " \n",
    "# create DataFrame \n",
    "df = pd.DataFrame(data=data_dict, columns=cols)\n",
    " \n",
    "# display DataFrame\n",
    "print(df)  "
   ]
  },
  {
   "cell_type": "code",
   "execution_count": 10,
   "metadata": {},
   "outputs": [
    {
     "name": "stdout",
     "output_type": "stream",
     "text": [
      "   col1  col2  col3    col4    col5\n",
      "0   one     1    up     top  beauty\n",
      "1  zero     0  down  bottom   charm\n"
     ]
    }
   ],
   "source": [
    "# create multiple lists (one per row)\n",
    "a1 = ['one', 1, 'up', 'top', 'beauty']\n",
    "a2 = ['zero', 0, 'down', 'bottom', 'charm']\n",
    "# combine the data into a single list\n",
    "l = [a1, a2]\n",
    "# create a list of column names\n",
    "col = ['col1', 'col2', 'col3', 'col4', 'col5']\n",
    " \n",
    "# create the DataFrame\n",
    "df2 = pd.DataFrame(data=l, columns=col)\n",
    " \n",
    "# display DataFrame\n",
    "print(df2) "
   ]
  },
  {
   "cell_type": "markdown",
   "metadata": {},
   "source": [
    "### Creating or adding rows"
   ]
  },
  {
   "cell_type": "code",
   "execution_count": 11,
   "metadata": {},
   "outputs": [
    {
     "name": "stdout",
     "output_type": "stream",
     "text": [
      "   col1  col2  col3    col4    col5\n",
      "0   one     1    up     top  beauty\n",
      "1  zero     0  down  bottom   charm\n"
     ]
    }
   ],
   "source": [
    "print(df2)"
   ]
  },
  {
   "cell_type": "code",
   "execution_count": 12,
   "metadata": {},
   "outputs": [
    {
     "name": "stdout",
     "output_type": "stream",
     "text": [
      "   col1  col2  col3    col4    col5\n",
      "0   one     1    up     top  beauty\n",
      "1  zero     0  down  bottom   charm\n",
      "2   two     2  blue   green     red\n"
     ]
    }
   ],
   "source": [
    "# declare a key-value pair dict type to match the dimensions of row\n",
    "row = {'col1':'two', 'col2':2, 'col3':'blue', 'col4':'green', 'col5':'red'}\n",
    " \n",
    "# pass it to the append() method\n",
    "new_df = df2.append(row, ignore_index=True)\n",
    " \n",
    "# display the new DataFrame\n",
    "print(new_df)"
   ]
  },
  {
   "cell_type": "code",
   "execution_count": 13,
   "metadata": {},
   "outputs": [
    {
     "name": "stdout",
     "output_type": "stream",
     "text": [
      "    col1  col2   col3    col4    col5\n",
      "0    one     1     up     top  beauty\n",
      "1   zero     0   down  bottom   charm\n",
      "2  three     3  black   white    grey\n"
     ]
    }
   ],
   "source": [
    "# create a series with column labels of \"df2\" as index\n",
    "row = pd.Series(['three',3,'black','white','grey'],\n",
    "                index=df2.columns)\n",
    " \n",
    "# pass it to the append() method\n",
    "new_df = df2.append(row, ignore_index=True)\n",
    " \n",
    "# display the new DataFrame\n",
    "print(new_df)"
   ]
  },
  {
   "cell_type": "code",
   "execution_count": 14,
   "metadata": {},
   "outputs": [
    {
     "name": "stdout",
     "output_type": "stream",
     "text": [
      "   col1  col2        col3    col4      col5\n",
      "0   one     1          up     top    beauty\n",
      "1  zero     0        down  bottom     charm\n",
      "2  four     4        left   right    center\n",
      "3  five     5  Winterfell   Eyrie  Sunspear\n"
     ]
    }
   ],
   "source": [
    "# create two series with column labels of \"df2\" as index\n",
    "row1 = pd.Series(['four',4,'left','right','center'],\n",
    "              index=df2.columns)\n",
    "row2 = pd.Series(['five',5,'Winterfell','Eyrie','Sunspear'],\n",
    "              index=df2.columns) \n",
    " \n",
    "# pass it to the append() method\n",
    "new_df = df2.append([row1, row2], ignore_index=True)\n",
    " \n",
    "# display the new DataFrame\n",
    "print(new_df)"
   ]
  },
  {
   "cell_type": "markdown",
   "metadata": {},
   "source": [
    "### Converting a DataFrame to other formats"
   ]
  },
  {
   "cell_type": "code",
   "execution_count": 15,
   "metadata": {},
   "outputs": [
    {
     "name": "stdout",
     "output_type": "stream",
     "text": [
      "The DataFrame\n",
      "       col1      col2      col3      col4      col5\n",
      "0  3.745401  9.507143  7.319939  5.986585  1.560186\n",
      "1  1.559945  0.580836  8.661761  6.011150  7.080726\n",
      "2  0.205845  9.699099  8.324426  2.123391  1.818250\n",
      "3  1.834045  3.042422  5.247564  4.319450  2.912291\n",
      "4  6.118529  1.394939  2.921446  3.663618  4.560700\n",
      "5  7.851760  1.996738  5.142344  5.924146  0.464504\n",
      "6  6.075449  1.705241  0.650516  9.488855  9.656320\n",
      "\n",
      "Using values attribute\n",
      "[[3.74540119 9.50714306 7.31993942 5.98658484 1.5601864 ]\n",
      " [1.5599452  0.58083612 8.66176146 6.01115012 7.08072578]\n",
      " [0.20584494 9.69909852 8.32442641 2.12339111 1.81824967]\n",
      " [1.8340451  3.04242243 5.24756432 4.31945019 2.9122914 ]\n",
      " [6.11852895 1.39493861 2.92144649 3.66361843 4.56069984]\n",
      " [7.85175961 1.99673782 5.14234438 5.92414569 0.46450413]\n",
      " [6.07544852 1.70524124 0.65051593 9.48885537 9.65632033]]\n",
      "\n"
     ]
    }
   ],
   "source": [
    "# print DataFrame \n",
    "print('The DataFrame')\n",
    "print(ndf)\n",
    "print(\"\")\n",
    " \n",
    "# use the values attribute to return an ndarray\n",
    "print('Using values attribute')\n",
    "print(ndf.values)\n",
    "print(\"\")"
   ]
  },
  {
   "cell_type": "code",
   "execution_count": 16,
   "metadata": {},
   "outputs": [
    {
     "name": "stdout",
     "output_type": "stream",
     "text": [
      "Using to_numpy() method\n",
      "[[3.74540119 9.50714306 7.31993942 5.98658484 1.5601864 ]\n",
      " [1.5599452  0.58083612 8.66176146 6.01115012 7.08072578]\n",
      " [0.20584494 9.69909852 8.32442641 2.12339111 1.81824967]\n",
      " [1.8340451  3.04242243 5.24756432 4.31945019 2.9122914 ]\n",
      " [6.11852895 1.39493861 2.92144649 3.66361843 4.56069984]\n",
      " [7.85175961 1.99673782 5.14234438 5.92414569 0.46450413]\n",
      " [6.07544852 1.70524124 0.65051593 9.48885537 9.65632033]]\n",
      "\n",
      "Using to_numpy() method with dtype=\"int\"\n",
      "[[3 9 7 5 1]\n",
      " [1 0 8 6 7]\n",
      " [0 9 8 2 1]\n",
      " [1 3 5 4 2]\n",
      " [6 1 2 3 4]\n",
      " [7 1 5 5 0]\n",
      " [6 1 0 9 9]]\n",
      "\n"
     ]
    }
   ],
   "source": [
    "# use the to_numpy() method to convert to ndarray\n",
    "print('Using to_numpy() method')\n",
    "print(ndf.to_numpy())\n",
    "print(\"\")\n",
    " \n",
    "# use to_numpy() method with explicit dtype\n",
    "print('Using to_numpy() method with dtype=\"int\"')\n",
    "print(ndf.to_numpy(dtype='int'))\n",
    "print(\"\")\n"
   ]
  },
  {
   "cell_type": "markdown",
   "metadata": {},
   "source": [
    "### Converting to a dict or a list"
   ]
  },
  {
   "cell_type": "code",
   "execution_count": 17,
   "metadata": {},
   "outputs": [
    {
     "name": "stdout",
     "output_type": "stream",
     "text": [
      "The dataframe\n",
      "   col1  col2        col3    col4      col5\n",
      "0   one     1          up     top    beauty\n",
      "1  zero     0        down  bottom     charm\n",
      "2  four     4        left   right    center\n",
      "3  five     5  Winterfell   Eyrie  Sunspear\n",
      "\n",
      "to_dict() with orient=\"dict\"\n",
      "{'col1': {0: 'one', 1: 'zero', 2: 'four', 3: 'five'},\n",
      " 'col2': {0: 1, 1: 0, 2: 4, 3: 5},\n",
      " 'col3': {0: 'up', 1: 'down', 2: 'left', 3: 'Winterfell'},\n",
      " 'col4': {0: 'top', 1: 'bottom', 2: 'right', 3: 'Eyrie'},\n",
      " 'col5': {0: 'beauty', 1: 'charm', 2: 'center', 3: 'Sunspear'}}\n",
      "\n",
      "to_dict() with orient=\"list\"\n",
      "{'col1': ['one', 'zero', 'four', 'five'],\n",
      " 'col2': [1, 0, 4, 5],\n",
      " 'col3': ['up', 'down', 'left', 'Winterfell'],\n",
      " 'col4': ['top', 'bottom', 'right', 'Eyrie'],\n",
      " 'col5': ['beauty', 'charm', 'center', 'Sunspear']}\n",
      "\n",
      "to_dict() with orient=\"series\"\n",
      "{'col1': 0     one\n",
      "1    zero\n",
      "2    four\n",
      "3    five\n",
      "Name: col1, dtype: object,\n",
      " 'col2': 0    1\n",
      "1    0\n",
      "2    4\n",
      "3    5\n",
      "Name: col2, dtype: int64,\n",
      " 'col3': 0            up\n",
      "1          down\n",
      "2          left\n",
      "3    Winterfell\n",
      "Name: col3, dtype: object,\n",
      " 'col4': 0       top\n",
      "1    bottom\n",
      "2     right\n",
      "3     Eyrie\n",
      "Name: col4, dtype: object,\n",
      " 'col5': 0      beauty\n",
      "1       charm\n",
      "2      center\n",
      "3    Sunspear\n",
      "Name: col5, dtype: object}\n",
      "\n",
      "to_dict() with orient=\"records\"\n",
      "[{'col1': 'one', 'col2': 1, 'col3': 'up', 'col4': 'top', 'col5': 'beauty'},\n",
      " {'col1': 'zero', 'col2': 0, 'col3': 'down', 'col4': 'bottom', 'col5': 'charm'},\n",
      " {'col1': 'four', 'col2': 4, 'col3': 'left', 'col4': 'right', 'col5': 'center'},\n",
      " {'col1': 'five',\n",
      "  'col2': 5,\n",
      "  'col3': 'Winterfell',\n",
      "  'col4': 'Eyrie',\n",
      "  'col5': 'Sunspear'}]\n",
      "\n"
     ]
    }
   ],
   "source": [
    "import pprint\n",
    "# print the actual dataframe\n",
    "print('The dataframe')\n",
    "print(new_df)\n",
    "print('')\n",
    " \n",
    "print('to_dict() with orient=\"dict\"')\n",
    "pprint.pprint(new_df.to_dict(orient='dict'))\n",
    "print('')\n",
    " \n",
    "print('to_dict() with orient=\"list\"')\n",
    "pprint.pprint(new_df.to_dict(orient='list'))\n",
    "print('')\n",
    " \n",
    "print('to_dict() with orient=\"series\"')\n",
    "pprint.pprint(new_df.to_dict(orient='series'))\n",
    "print('')\n",
    "print('to_dict() with orient=\"records\"')\n",
    "pprint.pprint(new_df.to_dict(orient='records'))\n",
    "print('') "
   ]
  },
  {
   "cell_type": "code",
   "execution_count": null,
   "metadata": {
    "collapsed": true
   },
   "outputs": [],
   "source": []
  },
  {
   "cell_type": "code",
   "execution_count": null,
   "metadata": {
    "collapsed": true
   },
   "outputs": [],
   "source": []
  },
  {
   "cell_type": "code",
   "execution_count": null,
   "metadata": {
    "collapsed": true
   },
   "outputs": [],
   "source": []
  }
 ],
 "metadata": {
  "kernelspec": {
   "display_name": "Python 3",
   "language": "python",
   "name": "python3"
  },
  "language_info": {
   "codemirror_mode": {
    "name": "ipython",
    "version": 3
   },
   "file_extension": ".py",
   "mimetype": "text/x-python",
   "name": "python",
   "nbconvert_exporter": "python",
   "pygments_lexer": "ipython3",
   "version": "3.6.1"
  }
 },
 "nbformat": 4,
 "nbformat_minor": 2
}
