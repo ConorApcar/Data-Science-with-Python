{
 "cells": [
  {
   "cell_type": "markdown",
   "metadata": {},
   "source": [
    "### Set Up"
   ]
  },
  {
   "cell_type": "code",
   "execution_count": 1,
   "metadata": {},
   "outputs": [
    {
     "name": "stdout",
     "output_type": "stream",
     "text": [
      "array \"a\"\n",
      "[1 4 2 3 5 7 8 6]\n",
      "\n",
      "array \"b\"\n",
      "[[1 0 1 0 2 3]\n",
      " [1 3 0 1 2 0]\n",
      " [0 1 0 0 1 3]]\n"
     ]
    }
   ],
   "source": [
    "import numpy as np\n",
    " \n",
    "# Create a 1-dimensional array\n",
    "a = np.array([1,4,2,3,5,7,8,6])\n",
    "print('array \"a\"')\n",
    "print(a)\n",
    "print()\n",
    " \n",
    "# Create a 2-dimensional array\n",
    "b = np.array([[1,0,1,0,2,3], [1,3,0,1,2,0], [0,1,0,0,1,3]])\n",
    "print('array \"b\"')\n",
    "print(b)"
   ]
  },
  {
   "cell_type": "markdown",
   "metadata": {},
   "source": [
    "### Element-wise operations (add, multiply, etc)"
   ]
  },
  {
   "cell_type": "code",
   "execution_count": 6,
   "metadata": {},
   "outputs": [
    {
     "name": "stdout",
     "output_type": "stream",
     "text": [
      "[[6 5 6 5 7 8]\n",
      " [6 8 5 6 7 5]\n",
      " [5 6 5 5 6 8]]\n"
     ]
    }
   ],
   "source": [
    "c = b + 5 \n",
    "print(c)"
   ]
  },
  {
   "cell_type": "code",
   "execution_count": 7,
   "metadata": {},
   "outputs": [
    {
     "name": "stdout",
     "output_type": "stream",
     "text": [
      "Element-wise sum of \"b\" and \"c\"\n",
      "[[ 7  5  7  5  9 11]\n",
      " [ 7 11  5  7  9  5]\n",
      " [ 5  7  5  5  7 11]]\n",
      "\n",
      "Element-wise sum of \"b\" and \"c\"\n",
      "[[ 7  5  7  5  9 11]\n",
      " [ 7 11  5  7  9  5]\n",
      " [ 5  7  5  5  7 11]]\n"
     ]
    }
   ],
   "source": [
    "# Element-wise addition\n",
    "print('Element-wise sum of \"b\" and \"c\"') \n",
    "print(b + c)\n",
    "print()\n",
    " \n",
    "print('Element-wise sum of \"b\" and \"c\"') \n",
    "print(np.add(b, c))"
   ]
  },
  {
   "cell_type": "code",
   "execution_count": 8,
   "metadata": {},
   "outputs": [
    {
     "name": "stdout",
     "output_type": "stream",
     "text": [
      "Element-wise difference of \"b\" and \"c\"\n",
      "[[-5 -5 -5 -5 -5 -5]\n",
      " [-5 -5 -5 -5 -5 -5]\n",
      " [-5 -5 -5 -5 -5 -5]]\n",
      "\n",
      "Element-wise difference of \"b\" and \"c\"\n",
      "[[-5 -5 -5 -5 -5 -5]\n",
      " [-5 -5 -5 -5 -5 -5]\n",
      " [-5 -5 -5 -5 -5 -5]]\n"
     ]
    }
   ],
   "source": [
    "# Element-wise subtraction \n",
    "print('Element-wise difference of \"b\" and \"c\"') \n",
    "print(b - c)\n",
    "print()\n",
    "print('Element-wise difference of \"b\" and \"c\"')  \n",
    "print(np.subtract(b, c))"
   ]
  },
  {
   "cell_type": "code",
   "execution_count": 9,
   "metadata": {},
   "outputs": [
    {
     "name": "stdout",
     "output_type": "stream",
     "text": [
      "Element-wise multiplication of \"b\" and \"c\"\n",
      "[[ 6  0  6  0 14 24]\n",
      " [ 6 24  0  6 14  0]\n",
      " [ 0  6  0  0  6 24]]\n",
      "\n",
      "Element-wise multiplication of \"b\" and \"c\"\n",
      "[[ 6  0  6  0 14 24]\n",
      " [ 6 24  0  6 14  0]\n",
      " [ 0  6  0  0  6 24]]\n"
     ]
    }
   ],
   "source": [
    "# Element-wise multiplication \n",
    "print('Element-wise multiplication of \"b\" and \"c\"')\n",
    "print(b * c)\n",
    "print()\n",
    "print('Element-wise multiplication of \"b\" and \"c\"') \n",
    "print(np.multiply(b, c))"
   ]
  },
  {
   "cell_type": "code",
   "execution_count": 10,
   "metadata": {},
   "outputs": [
    {
     "name": "stdout",
     "output_type": "stream",
     "text": [
      "Element-wise division of \"b\" and \"c\" \n",
      "[[0.16666667 0.         0.16666667 0.         0.28571429 0.375     ]\n",
      " [0.16666667 0.375      0.         0.16666667 0.28571429 0.        ]\n",
      " [0.         0.16666667 0.         0.         0.16666667 0.375     ]]\n"
     ]
    }
   ],
   "source": [
    "# Element-wise division\n",
    "print('Element-wise division of \"b\" and \"c\" ')\n",
    "print(b / c)"
   ]
  },
  {
   "cell_type": "code",
   "execution_count": 11,
   "metadata": {},
   "outputs": [
    {
     "name": "stdout",
     "output_type": "stream",
     "text": [
      "Element-wise square root of array \"b\"\n",
      "[[1.         0.         1.         0.         1.41421356 1.73205081]\n",
      " [1.         1.73205081 0.         1.         1.41421356 0.        ]\n",
      " [0.         1.         0.         0.         1.         1.73205081]]\n"
     ]
    }
   ],
   "source": [
    "# Element-wise square-root\n",
    "print('Element-wise square root of array \"b\"')\n",
    "print(np.sqrt(b))"
   ]
  },
  {
   "cell_type": "code",
   "execution_count": 13,
   "metadata": {},
   "outputs": [
    {
     "name": "stdout",
     "output_type": "stream",
     "text": [
      "Element-wise square root of array \"b\"\n",
      "[[1.79175947 1.60943791 1.79175947 1.60943791 1.94591015 2.07944154]\n",
      " [1.79175947 2.07944154 1.60943791 1.79175947 1.94591015 1.60943791]\n",
      " [1.60943791 1.79175947 1.60943791 1.60943791 1.79175947 2.07944154]]\n"
     ]
    }
   ],
   "source": [
    "# Element-wise square-root\n",
    "print('Element-wise square root of array \"b\"')\n",
    "print(np.log(c))"
   ]
  },
  {
   "cell_type": "code",
   "execution_count": 14,
   "metadata": {},
   "outputs": [
    {
     "name": "stdout",
     "output_type": "stream",
     "text": [
      "Element-wise square root of array \"b\"\n",
      "[[ 403.42879349  148.4131591   403.42879349  148.4131591  1096.63315843\n",
      "  2980.95798704]\n",
      " [ 403.42879349 2980.95798704  148.4131591   403.42879349 1096.63315843\n",
      "   148.4131591 ]\n",
      " [ 148.4131591   403.42879349  148.4131591   148.4131591   403.42879349\n",
      "  2980.95798704]]\n"
     ]
    }
   ],
   "source": [
    "# Element-wise square-root\n",
    "print('Element-wise square root of array \"b\"')\n",
    "print(np.exp(c))"
   ]
  },
  {
   "cell_type": "markdown",
   "metadata": {},
   "source": [
    "### Aggregation operations (sum, min, max, etc)"
   ]
  },
  {
   "cell_type": "code",
   "execution_count": 15,
   "metadata": {},
   "outputs": [
    {
     "name": "stdout",
     "output_type": "stream",
     "text": [
      "Sum of all elements of array \"b\"\n",
      "19\n",
      "\n",
      "Sum of each column of array \"b\"\n",
      "[2 4 1 1 5 6]\n",
      "\n",
      "Sum of each row of array \"b\"\n",
      "[7 7 5]\n"
     ]
    }
   ],
   "source": [
    "# Sum of all elements\n",
    "print('Sum of all elements of array \"b\"')\n",
    "print(b.sum())\n",
    "print()\n",
    " \n",
    "# Sum of each column\n",
    "print('Sum of each column of array \"b\"')\n",
    "print(b.sum(axis=0))\n",
    "print()\n",
    " \n",
    "# Sum of each row\n",
    "print('Sum of each row of array \"b\"')\n",
    "print(b.sum(axis=1))"
   ]
  },
  {
   "cell_type": "code",
   "execution_count": 16,
   "metadata": {},
   "outputs": [
    {
     "name": "stdout",
     "output_type": "stream",
     "text": [
      "Minimum of all values of array \"b\"\n",
      "0\n",
      "\n",
      "Maximum across axis 1 of array \"b\"\n",
      "[3 3 3]\n",
      "\n",
      "Cumulative sum across axis 0 of array \"b\"\n",
      "[[1 0 1 0 2 3]\n",
      " [2 3 1 1 4 3]\n",
      " [2 4 1 1 5 6]]\n"
     ]
    }
   ],
   "source": [
    "# Minimum of all values\n",
    "print('Minimum of all values of array \"b\"') \n",
    "print(b.min())\n",
    "print()\n",
    " \n",
    "# Maximum across axis 1\n",
    "print('Maximum across axis 1 of array \"b\"')\n",
    "print(b.max(axis=1))\n",
    "print()\n",
    " \n",
    "# Cumulative sum across axis 0\n",
    "print('Cumulative sum across axis 0 of array \"b\"')\n",
    "print(b.cumsum(axis=0))"
   ]
  },
  {
   "cell_type": "code",
   "execution_count": 18,
   "metadata": {},
   "outputs": [
    {
     "name": "stdout",
     "output_type": "stream",
     "text": [
      "Mean along axis 0 of array \"b\"\n",
      "[0.66666667 1.33333333 0.33333333 0.33333333 1.66666667 2.        ]\n",
      "\n",
      "Median along axis 1 of array \"b\"\n",
      "[1.  1.  0.5]\n",
      "\n",
      "Standard deviation along axis 0 of array \"b\"\n",
      "[0.47140452 1.24721913 0.47140452 0.47140452 0.47140452 1.41421356]\n",
      "\n",
      "Mean along axis 0 of array \"b\"\n",
      "[0.66666667 1.33333333 0.33333333 0.33333333 1.66666667 2.        ]\n"
     ]
    }
   ],
   "source": [
    "print('Mean along axis 0 of array \"b\"')\n",
    "print(b.mean(axis=0))\n",
    "print()\n",
    " \n",
    "print('Median along axis 1 of array \"b\"')\n",
    "print(np.median(b, axis=1))\n",
    "print()\n",
    " \n",
    "print('Standard deviation along axis 0 of array \"b\"')\n",
    "print(np.std(b, axis=0))\n",
    "print()\n",
    " \n",
    "print('Mean along axis 0 of array \"b\"')\n",
    "print(np.mean(b, axis=0))"
   ]
  },
  {
   "cell_type": "code",
   "execution_count": 19,
   "metadata": {},
   "outputs": [
    {
     "name": "stdout",
     "output_type": "stream",
     "text": [
      "unique elements in array \"b\"\n",
      "[0 1 2 3]\n"
     ]
    }
   ],
   "source": [
    "print('unique elements in array \"b\"')\n",
    "print(np.unique(b))"
   ]
  },
  {
   "cell_type": "markdown",
   "metadata": {},
   "source": [
    "### Matrix Operations (dot products, matrix multiplication, etc)"
   ]
  },
  {
   "cell_type": "code",
   "execution_count": 20,
   "metadata": {},
   "outputs": [
    {
     "name": "stdout",
     "output_type": "stream",
     "text": [
      "array \"v\"\n",
      "[1 1 0]\n",
      "\n",
      "array \"w\"\n",
      "[0 3 1]\n"
     ]
    }
   ],
   "source": [
    "# Create array \"v\"\n",
    "v = b[:, 0]\n",
    "print('array \"v\"')\n",
    "print(v)\n",
    "print()\n",
    "# Create array \"w\"\n",
    "w = b[:, 1]\n",
    "print('array \"w\"')\n",
    "print(w)"
   ]
  },
  {
   "cell_type": "code",
   "execution_count": 21,
   "metadata": {},
   "outputs": [
    {
     "name": "stdout",
     "output_type": "stream",
     "text": [
      "Dot product of \"v\" and \"w\"\n",
      "3\n",
      "\n",
      "Dot product of \"v\" and \"v\"\n",
      "2\n"
     ]
    }
   ],
   "source": [
    "# Inner product of vectors: v[0]*w[0] + v[1]*w[1] + ... v[n]*w[n]\n",
    "print('Dot product of \"v\" and \"w\"')\n",
    "print(v.dot(w)) # or np.dot(v, w)\n",
    "print()\n",
    " \n",
    "print('Dot product of \"v\" and \"v\"')\n",
    "print(v.dot(v)) # or np.dot(v, v)"
   ]
  },
  {
   "cell_type": "code",
   "execution_count": 22,
   "metadata": {},
   "outputs": [
    {
     "name": "stdout",
     "output_type": "stream",
     "text": [
      "Transpose of \"b\"\n",
      "[[1 1 0]\n",
      " [0 3 1]\n",
      " [1 0 0]\n",
      " [0 1 0]\n",
      " [2 2 1]\n",
      " [3 0 3]]\n",
      "\n",
      "Matrix-vector product of \"b-transpose\" and \"v\"\n",
      "[2 3 1 1 4 3]\n",
      "\n",
      "Matrix-matrix product of \"b-transpose\" and \"b\"\n",
      "[[ 2  3  1  1  4  3]\n",
      " [ 3 10  0  3  7  3]\n",
      " [ 1  0  1  0  2  3]\n",
      " [ 1  3  0  1  2  0]\n",
      " [ 4  7  2  2  9  9]\n",
      " [ 3  3  3  0  9 18]]\n"
     ]
    }
   ],
   "source": [
    "# Transpose of a matrix\n",
    "print('Transpose of \"b\"')\n",
    "print(b.T)\n",
    "print()\n",
    " \n",
    "# Matrix-vector product\n",
    "print('Matrix-vector product of \"b-transpose\" and \"v\"')\n",
    "print(np.dot(b.T, v))\n",
    "print()\n",
    " \n",
    "# Matrix-matrix product (matrix multiplication)\n",
    "print('Matrix-matrix product of \"b-transpose\" and \"b\"')\n",
    "print(np.dot(b.T, b))"
   ]
  },
  {
   "cell_type": "code",
   "execution_count": 23,
   "metadata": {},
   "outputs": [
    {
     "ename": "ValueError",
     "evalue": "shapes (3,6) and (3,) not aligned: 6 (dim 1) != 3 (dim 0)",
     "output_type": "error",
     "traceback": [
      "\u001b[0;31m---------------------------------------------------------------------------\u001b[0m",
      "\u001b[0;31mValueError\u001b[0m                                Traceback (most recent call last)",
      "\u001b[0;32m<ipython-input-23-8b9acb29ca39>\u001b[0m in \u001b[0;36m<module>\u001b[0;34m()\u001b[0m\n\u001b[1;32m      1\u001b[0m \u001b[0;31m# Incompatible dimensions (matrix-vector)\u001b[0m\u001b[0;34m\u001b[0m\u001b[0;34m\u001b[0m\u001b[0m\n\u001b[0;32m----> 2\u001b[0;31m \u001b[0mprint\u001b[0m\u001b[0;34m(\u001b[0m\u001b[0mnp\u001b[0m\u001b[0;34m.\u001b[0m\u001b[0mdot\u001b[0m\u001b[0;34m(\u001b[0m\u001b[0mb\u001b[0m\u001b[0;34m,\u001b[0m \u001b[0mv\u001b[0m\u001b[0;34m)\u001b[0m\u001b[0;34m)\u001b[0m\u001b[0;34m\u001b[0m\u001b[0m\n\u001b[0m",
      "\u001b[0;31mValueError\u001b[0m: shapes (3,6) and (3,) not aligned: 6 (dim 1) != 3 (dim 0)"
     ]
    }
   ],
   "source": [
    "# Incompatible dimensions (matrix-vector)\n",
    "print(np.dot(b, v))"
   ]
  },
  {
   "cell_type": "code",
   "execution_count": 24,
   "metadata": {},
   "outputs": [
    {
     "ename": "ValueError",
     "evalue": "shapes (3,6) and (3,6) not aligned: 6 (dim 1) != 3 (dim 0)",
     "output_type": "error",
     "traceback": [
      "\u001b[0;31m---------------------------------------------------------------------------\u001b[0m",
      "\u001b[0;31mValueError\u001b[0m                                Traceback (most recent call last)",
      "\u001b[0;32m<ipython-input-24-4d2a70377303>\u001b[0m in \u001b[0;36m<module>\u001b[0;34m()\u001b[0m\n\u001b[1;32m      1\u001b[0m \u001b[0;31m# Incompatible dimensions (matrix-matrix)\u001b[0m\u001b[0;34m\u001b[0m\u001b[0;34m\u001b[0m\u001b[0m\n\u001b[0;32m----> 2\u001b[0;31m \u001b[0mprint\u001b[0m\u001b[0;34m(\u001b[0m\u001b[0mnp\u001b[0m\u001b[0;34m.\u001b[0m\u001b[0mdot\u001b[0m\u001b[0;34m(\u001b[0m\u001b[0mb\u001b[0m\u001b[0;34m,\u001b[0m \u001b[0mc\u001b[0m\u001b[0;34m)\u001b[0m\u001b[0;34m)\u001b[0m\u001b[0;34m\u001b[0m\u001b[0m\n\u001b[0m",
      "\u001b[0;31mValueError\u001b[0m: shapes (3,6) and (3,6) not aligned: 6 (dim 1) != 3 (dim 0)"
     ]
    }
   ],
   "source": [
    "# Incompatible dimensions (matrix-matrix)\n",
    "print(np.dot(b, c))"
   ]
  },
  {
   "cell_type": "markdown",
   "metadata": {},
   "source": [
    "### Sorting"
   ]
  },
  {
   "cell_type": "code",
   "execution_count": 25,
   "metadata": {},
   "outputs": [
    {
     "name": "stdout",
     "output_type": "stream",
     "text": [
      "array \"a\"\n",
      "[1 4 2 3 5 7 8 6]\n",
      "\n",
      "sorted array \"a\"\n",
      "[1 2 3 4 5 6 7 8]\n"
     ]
    }
   ],
   "source": [
    "print('array \"a\"')\n",
    "print(a)\n",
    "print()\n",
    " \n",
    "# sort array \"a\"\n",
    "print('sorted array \"a\"')\n",
    "print(np.sort(a))"
   ]
  },
  {
   "cell_type": "code",
   "execution_count": 26,
   "metadata": {},
   "outputs": [
    {
     "name": "stdout",
     "output_type": "stream",
     "text": [
      "array \"b\"\n",
      "[[1 0 1 0 2 3]\n",
      " [1 3 0 1 2 0]\n",
      " [0 1 0 0 1 3]]\n",
      "\n",
      "array \"b\" sorted along rows (axis=1)\n",
      "[[0 0 1 1 2 3]\n",
      " [0 0 1 1 2 3]\n",
      " [0 0 0 1 1 3]]\n",
      "\n",
      "array \"b\" sorted along rows (axis=-1)\n",
      "[[0 0 1 1 2 3]\n",
      " [0 0 1 1 2 3]\n",
      " [0 0 0 1 1 3]]\n",
      "\n",
      "array \"b\" sorted along columns (axis=0)\n",
      "[[0 0 0 0 1 0]\n",
      " [1 1 0 0 2 3]\n",
      " [1 3 1 1 2 3]]\n",
      "\n",
      "array \"b\" flattened and then sorted (axis=None)\n",
      "[0 0 0 0 0 0 0 1 1 1 1 1 1 2 2 3 3 3]\n"
     ]
    }
   ],
   "source": [
    "print('array \"b\"')\n",
    "print(b)\n",
    "print()\n",
    "# sort array \"b\" along rows, axis 1\n",
    "print('array \"b\" sorted along rows (axis=1)')\n",
    "print(np.sort(b, axis=1))\n",
    "print()\n",
    "# sort array \"b\" along rows (also the last axis in this case)\n",
    "print('array \"b\" sorted along rows (axis=-1)')\n",
    "print(np.sort(b, axis=-1))\n",
    "print()\n",
    "# sort array \"b\" along columns, axis 0\n",
    "print('array \"b\" sorted along columns (axis=0)')\n",
    "print(np.sort(b, axis=0))\n",
    "print()\n",
    "# sort array \"b\" after flattening it\n",
    "print('array \"b\" flattened and then sorted (axis=None)')\n",
    "print(np.sort(b, axis=None))"
   ]
  },
  {
   "cell_type": "code",
   "execution_count": 27,
   "metadata": {},
   "outputs": [
    {
     "name": "stdout",
     "output_type": "stream",
     "text": [
      "array with \"nan\" values\n",
      "[ 0. nan  1.  2. nan  7.  3.  5.  1. nan]\n",
      "\n",
      "sorted array\n",
      "[ 0.  1.  1.  2.  3.  5.  7. nan nan nan]\n"
     ]
    }
   ],
   "source": [
    "# create a new array with 'nan' values \n",
    "z = np.array([0, np.nan, 1, 2, np.nan, 7, 3, 5, 1, np.nan])\n",
    "print('array with \"nan\" values')\n",
    "print(z)\n",
    "print()\n",
    " \n",
    "# sort array and display\n",
    "print('sorted array')\n",
    "print(np.sort(z))"
   ]
  },
  {
   "cell_type": "code",
   "execution_count": 28,
   "metadata": {},
   "outputs": [
    {
     "name": "stdout",
     "output_type": "stream",
     "text": [
      "[[0 0 0 0 1 0]\n",
      " [1 1 0 0 2 3]\n",
      " [1 3 1 1 2 3]]\n"
     ]
    }
   ],
   "source": [
    "b.sort(axis=0)\n",
    "print(b)"
   ]
  },
  {
   "cell_type": "code",
   "execution_count": null,
   "metadata": {
    "collapsed": true
   },
   "outputs": [],
   "source": []
  }
 ],
 "metadata": {
  "kernelspec": {
   "display_name": "Python 3",
   "language": "python",
   "name": "python3"
  },
  "language_info": {
   "codemirror_mode": {
    "name": "ipython",
    "version": 3
   },
   "file_extension": ".py",
   "mimetype": "text/x-python",
   "name": "python",
   "nbconvert_exporter": "python",
   "pygments_lexer": "ipython3",
   "version": "3.6.1"
  }
 },
 "nbformat": 4,
 "nbformat_minor": 2
}
