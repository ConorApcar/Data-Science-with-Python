{
 "cells": [
  {
   "cell_type": "markdown",
   "metadata": {},
   "source": [
    "# Introduction to NumPy"
   ]
  },
  {
   "cell_type": "markdown",
   "metadata": {},
   "source": [
    "### Import"
   ]
  },
  {
   "cell_type": "code",
   "execution_count": 1,
   "metadata": {
    "collapsed": true
   },
   "outputs": [],
   "source": [
    "import numpy as np"
   ]
  },
  {
   "cell_type": "markdown",
   "metadata": {},
   "source": [
    "### Array Creation"
   ]
  },
  {
   "cell_type": "code",
   "execution_count": 2,
   "metadata": {},
   "outputs": [
    {
     "name": "stdout",
     "output_type": "stream",
     "text": [
      "[1 4 2 3 5 7 8 6]\n"
     ]
    }
   ],
   "source": [
    "# Create a 1-dimensional array\n",
    "a = np.array([1,4,2,3,5,7,8,6])\n",
    "print(a)"
   ]
  },
  {
   "cell_type": "code",
   "execution_count": 3,
   "metadata": {},
   "outputs": [
    {
     "name": "stdout",
     "output_type": "stream",
     "text": [
      "[[5 0 1 0 2 3]\n",
      " [1 3 0 1 2 0]\n",
      " [0 1 0 0 1 3]]\n"
     ]
    }
   ],
   "source": [
    "# Create a 2-dimensional array\n",
    "b = np.array([[5,0,1,0,2,3], [1,3,0,1,2,0], [0,1,0,0,1,3]])\n",
    "print(b)"
   ]
  },
  {
   "cell_type": "code",
   "execution_count": 4,
   "metadata": {},
   "outputs": [
    {
     "name": "stdout",
     "output_type": "stream",
     "text": [
      "A 2x2 array of all zeros\n",
      "[[0. 0.]\n",
      " [0. 0.]]\n",
      "\n"
     ]
    }
   ],
   "source": [
    "# Create a 2x2 array of all zeros\n",
    "print('A 2x2 array of all zeros')\n",
    "print(np.zeros((2, 2)))\n",
    "print()"
   ]
  },
  {
   "cell_type": "code",
   "execution_count": 5,
   "metadata": {},
   "outputs": [
    {
     "name": "stdout",
     "output_type": "stream",
     "text": [
      "An 1x2 array of all ones\n",
      "[[1. 1.]]\n",
      "\n"
     ]
    }
   ],
   "source": [
    "# Create an 1x2 array of all ones\n",
    "print('An 1x2 array of all ones')\n",
    "print(np.ones((1, 2)))\n",
    "print()"
   ]
  },
  {
   "cell_type": "code",
   "execution_count": 6,
   "metadata": {},
   "outputs": [
    {
     "name": "stdout",
     "output_type": "stream",
     "text": [
      "A 2x2 constant array of the number 7\n",
      "[[7 7]\n",
      " [7 7]]\n",
      "\n"
     ]
    }
   ],
   "source": [
    "# Create a 2x2 constant array of the number 7\n",
    "print('A 2x2 constant array of the number 7')\n",
    "print(np.full((2, 2), 7))\n",
    "print()"
   ]
  },
  {
   "cell_type": "code",
   "execution_count": 10,
   "metadata": {},
   "outputs": [
    {
     "name": "stdout",
     "output_type": "stream",
     "text": [
      "A 2x2 array filled with random values between 0 and 1\n",
      "[[0.37454012 0.95071431]\n",
      " [0.73199394 0.59865848]]\n"
     ]
    }
   ],
   "source": [
    "# Creates a 2x2 array filled with random values between 0 and 1\n",
    "print('A 2x2 array filled with random values between 0 and 1')\n",
    "np.random.seed(42) # set a seed to that we always get the same random values\n",
    "c = np.random.random((2, 2))\n",
    "print(c)"
   ]
  },
  {
   "cell_type": "code",
   "execution_count": 11,
   "metadata": {},
   "outputs": [
    {
     "name": "stdout",
     "output_type": "stream",
     "text": [
      "A 2x2 identity matrix\n",
      "[[1. 0.]\n",
      " [0. 1.]]\n"
     ]
    }
   ],
   "source": [
    "# Create a 2x2 identity matrix\n",
    "print('A 2x2 identity matrix')\n",
    "print(np.eye(2))"
   ]
  },
  {
   "cell_type": "markdown",
   "metadata": {},
   "source": [
    "### Reading documentation"
   ]
  },
  {
   "cell_type": "code",
   "execution_count": 12,
   "metadata": {},
   "outputs": [
    {
     "name": "stdout",
     "output_type": "stream",
     "text": [
      "Help on built-in function random_sample:\n",
      "\n",
      "random_sample(...) method of mtrand.RandomState instance\n",
      "    random_sample(size=None)\n",
      "    \n",
      "    Return random floats in the half-open interval [0.0, 1.0).\n",
      "    \n",
      "    Results are from the \"continuous uniform\" distribution over the\n",
      "    stated interval.  To sample :math:`Unif[a, b), b > a` multiply\n",
      "    the output of `random_sample` by `(b-a)` and add `a`::\n",
      "    \n",
      "      (b - a) * random_sample() + a\n",
      "    \n",
      "    Parameters\n",
      "    ----------\n",
      "    size : int or tuple of ints, optional\n",
      "        Output shape.  If the given shape is, e.g., ``(m, n, k)``, then\n",
      "        ``m * n * k`` samples are drawn.  Default is None, in which case a\n",
      "        single value is returned.\n",
      "    \n",
      "    Returns\n",
      "    -------\n",
      "    out : float or ndarray of floats\n",
      "        Array of random floats of shape `size` (unless ``size=None``, in which\n",
      "        case a single float is returned).\n",
      "    \n",
      "    Examples\n",
      "    --------\n",
      "    >>> np.random.random_sample()\n",
      "    0.47108547995356098\n",
      "    >>> type(np.random.random_sample())\n",
      "    <type 'float'>\n",
      "    >>> np.random.random_sample((5,))\n",
      "    array([ 0.30220482,  0.86820401,  0.1654503 ,  0.11659149,  0.54323428])\n",
      "    \n",
      "    Three-by-two array of random numbers from [-5, 0):\n",
      "    \n",
      "    >>> 5 * np.random.random_sample((3, 2)) - 5\n",
      "    array([[-3.99149989, -0.52338984],\n",
      "           [-2.99091858, -0.79479508],\n",
      "           [-1.23204345, -1.75224494]])\n",
      "\n"
     ]
    }
   ],
   "source": [
    "help(np.random.random)"
   ]
  },
  {
   "cell_type": "markdown",
   "metadata": {},
   "source": [
    "### Defining features of NumPy Arrays"
   ]
  },
  {
   "cell_type": "markdown",
   "metadata": {},
   "source": [
    "#### Shape and Size"
   ]
  },
  {
   "cell_type": "code",
   "execution_count": 13,
   "metadata": {},
   "outputs": [
    {
     "name": "stdout",
     "output_type": "stream",
     "text": [
      "Shape of NumPy array \"a\"\n",
      "(8,)\n",
      "\n",
      "Shape of NumPy array \"b\"\n",
      "(3, 6)\n"
     ]
    }
   ],
   "source": [
    "print('Shape of NumPy array \"a\"')\n",
    "print(a.shape)\n",
    "print()\n",
    " \n",
    "print('Shape of NumPy array \"b\"')\n",
    "print(b.shape)"
   ]
  },
  {
   "cell_type": "code",
   "execution_count": 14,
   "metadata": {},
   "outputs": [
    {
     "name": "stdout",
     "output_type": "stream",
     "text": [
      "Number of dimensions of NumPy array \"a\"\n",
      "1\n",
      "\n",
      "Number of dimensions of NumPy array \"b\"\n",
      "2\n"
     ]
    }
   ],
   "source": [
    "print('Number of dimensions of NumPy array \"a\"')\n",
    "print(a.ndim)\n",
    "print()\n",
    " \n",
    "print('Number of dimensions of NumPy array \"b\"')\n",
    "print(b.ndim)"
   ]
  },
  {
   "cell_type": "code",
   "execution_count": 15,
   "metadata": {},
   "outputs": [
    {
     "name": "stdout",
     "output_type": "stream",
     "text": [
      "Total number of elements in NumPy array \"a\"\n",
      "8\n",
      "\n",
      "Total number of elements in NumPy array \"b\"\n",
      "18\n",
      "\n",
      "Total number of elements in NumPy array \"c\"\n",
      "4\n"
     ]
    }
   ],
   "source": [
    "print('Total number of elements in NumPy array \"a\"')\n",
    "print(a.size)\n",
    "print()\n",
    " \n",
    "print('Total number of elements in NumPy array \"b\"')\n",
    "print(b.size)\n",
    "print()\n",
    " \n",
    "print('Total number of elements in NumPy array \"c\"')\n",
    "print(c.size)"
   ]
  },
  {
   "cell_type": "markdown",
   "metadata": {},
   "source": [
    "#### Datatype"
   ]
  },
  {
   "cell_type": "code",
   "execution_count": 16,
   "metadata": {},
   "outputs": [
    {
     "name": "stdout",
     "output_type": "stream",
     "text": [
      "Type of data stored in NumPy array \"a\"\n",
      "int64\n",
      "\n",
      "Type of data stored in NumPy array \"b\"\n",
      "int64\n",
      "\n",
      "Type of data stored in NumPy array \"c\"\n",
      "float64\n"
     ]
    }
   ],
   "source": [
    "print('Type of data stored in NumPy array \"a\"')\n",
    "print(a.dtype.name)\n",
    "print()\n",
    " \n",
    "print('Type of data stored in NumPy array \"b\"')\n",
    "print(b.dtype.name)\n",
    "print()\n",
    " \n",
    "print('Type of data stored in NumPy array \"c\"')\n",
    "print(c.dtype.name)"
   ]
  },
  {
   "cell_type": "code",
   "execution_count": 17,
   "metadata": {},
   "outputs": [
    {
     "name": "stdout",
     "output_type": "stream",
     "text": [
      "Size of an individual array elements in NumPy array \"a\"\n",
      "8\n",
      "\n",
      "Size of an individual array elements in NumPy array \"b\"\n",
      "8\n",
      "\n",
      "Size of an individual array elements in NumPy array \"c\"\n",
      "8\n"
     ]
    }
   ],
   "source": [
    "print('Size of an individual array elements in NumPy array \"a\"')\n",
    "print(a.itemsize)\n",
    "print()\n",
    " \n",
    "print('Size of an individual array elements in NumPy array \"b\"')\n",
    "print(b.itemsize)\n",
    "print()\n",
    " \n",
    "print('Size of an individual array elements in NumPy array \"c\"')\n",
    "print(c.itemsize)"
   ]
  },
  {
   "cell_type": "code",
   "execution_count": 18,
   "metadata": {},
   "outputs": [
    {
     "name": "stdout",
     "output_type": "stream",
     "text": [
      "<class 'numpy.ndarray'>\n"
     ]
    }
   ],
   "source": [
    "print(type(a))"
   ]
  },
  {
   "cell_type": "code",
   "execution_count": 19,
   "metadata": {},
   "outputs": [
    {
     "name": "stdout",
     "output_type": "stream",
     "text": [
      "A new array of zeroes of the same shape as \"b\"\n",
      "[[0. 0. 0. 0. 0. 0.]\n",
      " [0. 0. 0. 0. 0. 0.]\n",
      " [0. 0. 0. 0. 0. 0.]]\n",
      "\n",
      "A new array of ones of the same shape as \"a\"\n",
      "[1. 1. 1. 1. 1. 1. 1. 1.]\n"
     ]
    }
   ],
   "source": [
    "# Create an array of zeroes of the same shape as \"b\"\n",
    "print('A new array of zeroes of the same shape as \"b\"')\n",
    "print(np.zeros(b.shape))\n",
    "print()\n",
    "# Create an array of ones of the same shape as \"a\"\n",
    "print('A new array of ones of the same shape as \"a\"')\n",
    "print(np.ones(a.shape))"
   ]
  },
  {
   "cell_type": "markdown",
   "metadata": {},
   "source": [
    "### Slicing and Indexing"
   ]
  },
  {
   "cell_type": "markdown",
   "metadata": {},
   "source": [
    "#### Indexing"
   ]
  },
  {
   "cell_type": "code",
   "execution_count": 20,
   "metadata": {},
   "outputs": [
    {
     "name": "stdout",
     "output_type": "stream",
     "text": [
      "array \"a\"\n",
      "[1 4 2 3 5 7 8 6]\n",
      "\n",
      "First element of array \"a\"\n",
      "1\n",
      "\n",
      "Second element of array \"a\"\n",
      "4\n"
     ]
    }
   ],
   "source": [
    "# Recall what array a looked like\n",
    "print('array \"a\"')\n",
    "print(a)\n",
    "print()\n",
    " \n",
    "# Indexing. As always, indexes start from 0.\n",
    "print('First element of array \"a\"')\n",
    "print(a[0])   # element 1 \n",
    "print()\n",
    "print('Second element of array \"a\"')\n",
    "print(a[1])   # element 2 "
   ]
  },
  {
   "cell_type": "code",
   "execution_count": 21,
   "metadata": {},
   "outputs": [
    {
     "name": "stdout",
     "output_type": "stream",
     "text": [
      "array \"b\"\n",
      "[[5 0 1 0 2 3]\n",
      " [1 3 0 1 2 0]\n",
      " [0 1 0 0 1 3]]\n",
      "\n",
      "Element from row 0, column 1, of array \"b\"\n",
      "0\n"
     ]
    }
   ],
   "source": [
    "# Recall what array b looked like\n",
    "print('array \"b\"')\n",
    "print(b)\n",
    "print()\n",
    " \n",
    "# Indexing. As always, indexes start from 0.\n",
    "print('Element from row 0, column 1, of array \"b\"')\n",
    "print(b[0, 1])   # (row 0, column 1)"
   ]
  },
  {
   "cell_type": "markdown",
   "metadata": {},
   "source": [
    "#### Slicing"
   ]
  },
  {
   "cell_type": "code",
   "execution_count": 22,
   "metadata": {},
   "outputs": [
    {
     "name": "stdout",
     "output_type": "stream",
     "text": [
      "Elements 2 through 4 (4 not included), of array \"a\"\n",
      "[2 3]\n",
      "\n",
      "First 3 elements of array \"a\"\n",
      "[1 4 2]\n"
     ]
    }
   ],
   "source": [
    "# Slicing pulls out a subarray \n",
    "# Example for pulling out elements 2 through 4\n",
    "# (element 2 is included and 4 is not, same as python list slicing).\n",
    "print('Elements 2 through 4 (4 not included), of array \"a\"') \n",
    "print(a[2:4])   \n",
    "print()\n",
    "# Example for pulling out first 3 elements\n",
    "print('First 3 elements of array \"a\"')\n",
    "print(a[:3])"
   ]
  },
  {
   "cell_type": "code",
   "execution_count": 23,
   "metadata": {},
   "outputs": [
    {
     "name": "stdout",
     "output_type": "stream",
     "text": [
      "First 2 rows and columns 1 through 3 (3 not included) of array \"b\" \n",
      "[[0 1]\n",
      " [3 0]]\n",
      "\n",
      "Values from row 1 through 2 and all columns, of array \"b\"\n",
      "[[1 3 0 1 2 0]]\n",
      "\n",
      "Values from all rows and column 2\n",
      "[1 0 0]\n"
     ]
    }
   ],
   "source": [
    "# Example for pulling out first 2 rows and columns 1 though 3 \n",
    "# (column 1 is included and 3 is not, same as python list slicing). \n",
    "print('First 2 rows and columns 1 through 3 (3 not included) of array \"b\" ')\n",
    "print(b[:2, 1:3])\n",
    "print()\n",
    " \n",
    "# Values from row 1 through 2 and all columns\n",
    "print('Values from row 1 through 2 and all columns, of array \"b\"')\n",
    "print(b[1:2, :])\n",
    "print()\n",
    " \n",
    "# Values from all rows and column 2\n",
    "print('Values from all rows and column 2')\n",
    "print(b[:, 2])"
   ]
  },
  {
   "cell_type": "markdown",
   "metadata": {},
   "source": [
    "#### Modifying Elements"
   ]
  },
  {
   "cell_type": "code",
   "execution_count": 24,
   "metadata": {},
   "outputs": [
    {
     "name": "stdout",
     "output_type": "stream",
     "text": [
      "[[7 0 1 0 2 3]\n",
      " [1 3 0 1 2 0]\n",
      " [0 1 0 0 1 3]]\n"
     ]
    }
   ],
   "source": [
    "b[0, 0] = 7  # sets the first value in the first column to 7. \n",
    "print(b) "
   ]
  },
  {
   "cell_type": "code",
   "execution_count": 25,
   "metadata": {},
   "outputs": [
    {
     "name": "stdout",
     "output_type": "stream",
     "text": [
      "[[7 0 1 0 2 3]\n",
      " [1 3 9 9 2 0]\n",
      " [0 1 9 9 1 3]]\n"
     ]
    }
   ],
   "source": [
    "d = np.copy(b)\n",
    "d[1:3, 2:4] = 9  # sets all values in the subarray to 9. \n",
    "print(d)"
   ]
  },
  {
   "cell_type": "code",
   "execution_count": 26,
   "metadata": {},
   "outputs": [
    {
     "name": "stdout",
     "output_type": "stream",
     "text": [
      "[[7 2 0 0 2 3]\n",
      " [1 4 3 9 2 0]\n",
      " [0 1 9 9 1 3]]\n"
     ]
    }
   ],
   "source": [
    "d[:2, 1:3] = np.array([[2, 0], [4, 3]])\n",
    "print(d)"
   ]
  },
  {
   "cell_type": "markdown",
   "metadata": {},
   "source": [
    "#### Conditionals and Conditional Indexing"
   ]
  },
  {
   "cell_type": "code",
   "execution_count": 27,
   "metadata": {},
   "outputs": [
    {
     "name": "stdout",
     "output_type": "stream",
     "text": [
      "array \"a\"\n",
      "[1 4 2 3 5 7 8 6]\n",
      "\n",
      "Conditional of array \"a\", for elements of \"a\" greater than 2\n",
      "[False  True False  True  True  True  True  True]\n"
     ]
    }
   ],
   "source": [
    "# Recall what array a looked like\n",
    "print('array \"a\"')\n",
    "print(a)\n",
    "print()\n",
    "print('Conditional of array \"a\", for elements of \"a\" greater than 2')\n",
    "print(a > 2)"
   ]
  },
  {
   "cell_type": "code",
   "execution_count": 28,
   "metadata": {},
   "outputs": [
    {
     "name": "stdout",
     "output_type": "stream",
     "text": [
      "Values of array \"a\" larger than 2\n",
      "[4 3 5 7 8 6]\n"
     ]
    }
   ],
   "source": [
    "print('Values of array \"a\" larger than 2')\n",
    "print(a[a > 2]) # values of a larger than 2"
   ]
  },
  {
   "cell_type": "code",
   "execution_count": 29,
   "metadata": {},
   "outputs": [
    {
     "name": "stdout",
     "output_type": "stream",
     "text": [
      "array \"b\"\n",
      "[[7 0 1 0 2 3]\n",
      " [1 3 0 1 2 0]\n",
      " [0 1 0 0 1 3]]\n",
      "\n",
      "Conditional of array \"b\", for elements of \"b\" greater than 2\n",
      "[[ True False False False False  True]\n",
      " [False  True False False False False]\n",
      " [False False False False False  True]]\n",
      "\n",
      "Values of array \"b\" larger than 2\n",
      "[7 3 3 3]\n"
     ]
    }
   ],
   "source": [
    "# Recall what array b looked like\n",
    "print('array \"b\"')\n",
    "print(b)\n",
    "print()\n",
    " \n",
    "print('Conditional of array \"b\", for elements of \"b\" greater than 2')\n",
    "print(b > 2)\n",
    "print()\n",
    "print('Values of array \"b\" larger than 2') \n",
    "print(b[b > 2])\n"
   ]
  },
  {
   "cell_type": "code",
   "execution_count": null,
   "metadata": {
    "collapsed": true
   },
   "outputs": [],
   "source": []
  }
 ],
 "metadata": {
  "kernelspec": {
   "display_name": "Python 3",
   "language": "python",
   "name": "python3"
  },
  "language_info": {
   "codemirror_mode": {
    "name": "ipython",
    "version": 3
   },
   "file_extension": ".py",
   "mimetype": "text/x-python",
   "name": "python",
   "nbconvert_exporter": "python",
   "pygments_lexer": "ipython3",
   "version": "3.6.1"
  }
 },
 "nbformat": 4,
 "nbformat_minor": 2
}
