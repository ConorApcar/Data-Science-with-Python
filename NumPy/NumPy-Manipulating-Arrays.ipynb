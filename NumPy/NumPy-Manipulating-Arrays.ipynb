{
 "cells": [
  {
   "cell_type": "markdown",
   "metadata": {},
   "source": [
    "### Set Up"
   ]
  },
  {
   "cell_type": "code",
   "execution_count": 1,
   "metadata": {},
   "outputs": [
    {
     "name": "stdout",
     "output_type": "stream",
     "text": [
      "array \"a\"\n",
      "[1 4 2 3 5 7 8 6]\n",
      "\n",
      "array \"b\"\n",
      "[[1 0 1 0 2 3]\n",
      " [1 3 0 1 2 0]\n",
      " [0 1 0 0 1 3]]\n",
      "\n",
      "array \"c\"\n",
      "[[6 5 6 5 7 8]\n",
      " [6 8 5 6 7 5]\n",
      " [5 6 5 5 6 8]]\n"
     ]
    }
   ],
   "source": [
    "import numpy as np\n",
    " \n",
    "# Create a 1-dimensional array\n",
    "a = np.array([1,4,2,3,5,7,8,6])\n",
    "print('array \"a\"')\n",
    "print(a)\n",
    "print()\n",
    " \n",
    "# Create a 2-dimensional array\n",
    "b = np.array([[1,0,1,0,2,3], [1,3,0,1,2,0], [0,1,0,0,1,3]])\n",
    "print('array \"b\"')\n",
    "print(b)\n",
    "print()\n",
    " \n",
    "np.random.seed(42) # set a seed to that we always get the same random values\n",
    "c = b + 5\n",
    "print('array \"c\"')\n",
    "print(c)\n"
   ]
  },
  {
   "cell_type": "markdown",
   "metadata": {},
   "source": [
    "### Reshape and flatten"
   ]
  },
  {
   "cell_type": "code",
   "execution_count": 2,
   "metadata": {},
   "outputs": [
    {
     "name": "stdout",
     "output_type": "stream",
     "text": [
      "array \"a\" reshaped to 4 x 2\n",
      "[[1 4]\n",
      " [2 3]\n",
      " [5 7]\n",
      " [8 6]]\n",
      "\n",
      "array \"a\" reshaped to 2 x 4\n",
      "[[1 4 2 3]\n",
      " [5 7 8 6]]\n"
     ]
    }
   ],
   "source": [
    "# Reshape to shape 4 x 2\n",
    "a = a.reshape(4, 2) \n",
    "print('array \"a\" reshaped to 4 x 2')\n",
    "print(a)\n",
    "print()\n",
    " \n",
    "# Reshape to shape 2 x 4\n",
    "a = a.reshape(2, 4) \n",
    "print('array \"a\" reshaped to 2 x 4')\n",
    "print(a)"
   ]
  },
  {
   "cell_type": "code",
   "execution_count": 3,
   "metadata": {},
   "outputs": [
    {
     "name": "stdout",
     "output_type": "stream",
     "text": [
      "Flattened array \"a\"\n",
      "[1 4 2 3 5 7 8 6]\n"
     ]
    }
   ],
   "source": [
    "a = a.flatten() \n",
    "print('Flattened array \"a\"')\n",
    "print(a)"
   ]
  },
  {
   "cell_type": "markdown",
   "metadata": {},
   "source": [
    "### Resize"
   ]
  },
  {
   "cell_type": "code",
   "execution_count": 4,
   "metadata": {},
   "outputs": [
    {
     "name": "stdout",
     "output_type": "stream",
     "text": [
      "[[1 4 2 3 5]\n",
      " [7 8 6 1 4]\n",
      " [2 3 5 7 8]]\n"
     ]
    }
   ],
   "source": [
    "print(np.resize(a, (3, 5)))"
   ]
  },
  {
   "cell_type": "markdown",
   "metadata": {},
   "source": [
    "### Broadcast"
   ]
  },
  {
   "cell_type": "code",
   "execution_count": 5,
   "metadata": {},
   "outputs": [
    {
     "name": "stdout",
     "output_type": "stream",
     "text": [
      "Broadcasting array \"a\" to a new size\n",
      "[[1 4 2 3 5 7 8 6]\n",
      " [1 4 2 3 5 7 8 6]\n",
      " [1 4 2 3 5 7 8 6]\n",
      " [1 4 2 3 5 7 8 6]\n",
      " [1 4 2 3 5 7 8 6]\n",
      " [1 4 2 3 5 7 8 6]]\n"
     ]
    }
   ],
   "source": [
    "print('Broadcasting array \"a\" to a new size')\n",
    "print(np.broadcast_to(a, (6, 8)))"
   ]
  },
  {
   "cell_type": "code",
   "execution_count": 6,
   "metadata": {},
   "outputs": [
    {
     "name": "stdout",
     "output_type": "stream",
     "text": [
      "[[1 0 1 0 2 3]\n",
      " [1 3 0 1 2 0]\n",
      " [0 1 0 0 1 3]]\n",
      "\n",
      "Broadcasting array \"b\" to a new size\n",
      "New shape (2, 3, 6)\n",
      "[[[1 0 1 0 2 3]\n",
      "  [1 3 0 1 2 0]\n",
      "  [0 1 0 0 1 3]]\n",
      "\n",
      " [[1 0 1 0 2 3]\n",
      "  [1 3 0 1 2 0]\n",
      "  [0 1 0 0 1 3]]]\n"
     ]
    }
   ],
   "source": [
    "print(b)\n",
    "print()\n",
    " \n",
    "print('Broadcasting array \"b\" to a new size')\n",
    "z = np.broadcast_to(b, (2, 3, 6))\n",
    "print('New shape', z.shape)\n",
    "print(z)"
   ]
  },
  {
   "cell_type": "markdown",
   "metadata": {},
   "source": [
    "### Expanding and squeezing dimensions"
   ]
  },
  {
   "cell_type": "code",
   "execution_count": 8,
   "metadata": {},
   "outputs": [
    {
     "name": "stdout",
     "output_type": "stream",
     "text": [
      "Expanded array \"z\"\n",
      "Shape of z (3, 1, 6)\n",
      "[[[1 0 1 0 2 3]]\n",
      "\n",
      " [[1 3 0 1 2 0]]\n",
      "\n",
      " [[0 1 0 0 1 3]]]\n",
      "\n",
      "Squeezed array \"z\"\n",
      "[[1 0 1 0 2 3]\n",
      " [1 3 0 1 2 0]\n",
      " [0 1 0 0 1 3]]\n",
      "Shape of z (3, 1, 6)\n"
     ]
    }
   ],
   "source": [
    "# Expand the shape of an array by inserting axis \n",
    "z = np.expand_dims(b, axis=1) # expand at position 1\n",
    "print('Expanded array \"z\"')\n",
    "print('Shape of z', z.shape)\n",
    "print(z)\n",
    "print()\n",
    "# Remove single-dimensional entries from the shape of an array\n",
    "print('Squeezed array \"z\"')\n",
    "print(np.squeeze(z))"
   ]
  },
  {
   "cell_type": "markdown",
   "metadata": {},
   "source": [
    "### Concatenating and stacking"
   ]
  },
  {
   "cell_type": "code",
   "execution_count": 9,
   "metadata": {},
   "outputs": [
    {
     "name": "stdout",
     "output_type": "stream",
     "text": [
      "array \"b\"\n",
      "[[1 0 1 0 2 3]\n",
      " [1 3 0 1 2 0]\n",
      " [0 1 0 0 1 3]]\n",
      "\n",
      "array \"c\"\n",
      "[[6 5 6 5 7 8]\n",
      " [6 8 5 6 7 5]\n",
      " [5 6 5 5 6 8]]\n"
     ]
    }
   ],
   "source": [
    "print('array \"b\"')\n",
    "print(b)\n",
    "print()\n",
    " \n",
    "print('array \"c\"')\n",
    "print(c)"
   ]
  },
  {
   "cell_type": "code",
   "execution_count": 10,
   "metadata": {},
   "outputs": [
    {
     "name": "stdout",
     "output_type": "stream",
     "text": [
      "Concatenated array \"b\" and \"c\", along axis 0\n",
      "[[1 0 1 0 2 3]\n",
      " [1 3 0 1 2 0]\n",
      " [0 1 0 0 1 3]\n",
      " [6 5 6 5 7 8]\n",
      " [6 8 5 6 7 5]\n",
      " [5 6 5 5 6 8]]\n",
      "\n",
      "Concatenated arrays \"b\" and \"c\" along axis 1\n",
      "[[1 0 1 0 2 3 6 5 6 5 7 8]\n",
      " [1 3 0 1 2 0 6 8 5 6 7 5]\n",
      " [0 1 0 0 1 3 5 6 5 5 6 8]]\n"
     ]
    }
   ],
   "source": [
    "# Join arrays along an existing axis, axis 0\n",
    "print('Concatenated array \"b\" and \"c\", along axis 0')\n",
    "print(np.concatenate((b, c), axis=0))\n",
    "print()\n",
    "# Join arrays along an existing axis, axis 1\n",
    "print('Concatenated arrays \"b\" and \"c\" along axis 1')\n",
    "print(np.concatenate((b, c), axis=1))"
   ]
  },
  {
   "cell_type": "code",
   "execution_count": 11,
   "metadata": {},
   "outputs": [
    {
     "name": "stdout",
     "output_type": "stream",
     "text": [
      "Stack arrays \"b\" and \"c\" along a new axis, 0\n",
      "(2, 3, 6)\n",
      "[[[1 0 1 0 2 3]\n",
      "  [1 3 0 1 2 0]\n",
      "  [0 1 0 0 1 3]]\n",
      "\n",
      " [[6 5 6 5 7 8]\n",
      "  [6 8 5 6 7 5]\n",
      "  [5 6 5 5 6 8]]]\n",
      "\n",
      "Stack arrays \"b\" and \"c\" along a new axis, 1\n",
      "(3, 2, 6)\n",
      "[[[1 0 1 0 2 3]\n",
      "  [6 5 6 5 7 8]]\n",
      "\n",
      " [[1 3 0 1 2 0]\n",
      "  [6 8 5 6 7 5]]\n",
      "\n",
      " [[0 1 0 0 1 3]\n",
      "  [5 6 5 5 6 8]]]\n"
     ]
    }
   ],
   "source": [
    "# Join arrays along a new axis, 0\n",
    "print('Stack arrays \"b\" and \"c\" along a new axis, 0')\n",
    "z = np.stack((b, c), 0)\n",
    "print(z.shape)\n",
    "print(z)\n",
    "print()\n",
    " \n",
    "# Join arrays along a new axis, 1\n",
    "print('Stack arrays \"b\" and \"c\" along a new axis, 1')\n",
    "z = np.stack((b, c), 1)\n",
    "print(z.shape)\n",
    "print(z)"
   ]
  },
  {
   "cell_type": "markdown",
   "metadata": {},
   "source": [
    "### Splitting"
   ]
  },
  {
   "cell_type": "code",
   "execution_count": 12,
   "metadata": {},
   "outputs": [
    {
     "name": "stdout",
     "output_type": "stream",
     "text": [
      "array \"b\"\n",
      "[[1 0 1 0 2 3]\n",
      " [1 3 0 1 2 0]\n",
      " [0 1 0 0 1 3]]\n",
      "\n",
      "array \"c\"\n",
      "[[6 5 6 5 7 8]\n",
      " [6 8 5 6 7 5]\n",
      " [5 6 5 5 6 8]]\n"
     ]
    }
   ],
   "source": [
    "print('array \"b\"')\n",
    "print(b)\n",
    "print()\n",
    " \n",
    "print('array \"c\"')\n",
    "print(c)"
   ]
  },
  {
   "cell_type": "code",
   "execution_count": 13,
   "metadata": {},
   "outputs": [
    {
     "name": "stdout",
     "output_type": "stream",
     "text": [
      "Split array \"c\" into 3 parts along axis 1\n",
      "[array([[6, 5],\n",
      "       [6, 8],\n",
      "       [5, 6]]), array([[6, 5],\n",
      "       [5, 6],\n",
      "       [5, 5]]), array([[7, 8],\n",
      "       [7, 5],\n",
      "       [6, 8]])]\n",
      "\n",
      "Horizontally split array \"b\" into 2 parts\n",
      "[array([[1, 0, 1],\n",
      "       [1, 3, 0],\n",
      "       [0, 1, 0]]), array([[0, 2, 3],\n",
      "       [1, 2, 0],\n",
      "       [0, 1, 3]])]\n",
      "\n",
      "Horizontally split array \"b\" into 3 parts\n",
      "[array([[1, 0],\n",
      "       [1, 3],\n",
      "       [0, 1]]), array([[1, 0],\n",
      "       [0, 1],\n",
      "       [0, 0]]), array([[2, 3],\n",
      "       [2, 0],\n",
      "       [1, 3]])]\n"
     ]
    }
   ],
   "source": [
    "print('Split array \"c\" into 3 parts along axis 1') \n",
    "print(np.split(c, 3, axis=1))\n",
    "print()\n",
    "print('Horizontally split array \"b\" into 2 parts')\n",
    "print(np.hsplit(b, 2))\n",
    "print()\n",
    "print('Horizontally split array \"b\" into 3 parts')\n",
    "print(np.hsplit(b, 3))"
   ]
  },
  {
   "cell_type": "markdown",
   "metadata": {},
   "source": [
    "### Append, insert and delete"
   ]
  },
  {
   "cell_type": "code",
   "execution_count": 14,
   "metadata": {},
   "outputs": [
    {
     "name": "stdout",
     "output_type": "stream",
     "text": [
      "array \"a\"\n",
      "[1 4 2 3 5 7 8 6]\n",
      "\n",
      "Values appended to array \"a\"\n",
      "[1 4 2 3 5 7 8 6 1 2]\n",
      "\n",
      "Values inserted to array \"a\"\n",
      "[1 4 2 0 0 3 5 7 8 6]\n",
      "\n",
      "Values deleted from array \"a\"\n",
      "[1 2 5 7 8 6]\n"
     ]
    }
   ],
   "source": [
    "print('array \"a\"')\n",
    "print(a)\n",
    "print()\n",
    "# Append values to the end of an array\n",
    "print('Values appended to array \"a\"')\n",
    "print(np.append(a, [1, 2]))\n",
    "print()\n",
    " \n",
    "# Insert values (0, 0) along the given axis (0) at the given index (3)\n",
    "print('Values inserted to array \"a\"')\n",
    "print(np.insert(a, 3, [0, 0], axis=0))\n",
    "print()\n",
    " \n",
    "# Delete the element at given locations (1) along an axis (0)\n",
    "print('Values deleted from array \"a\"')\n",
    "print(np.delete(a, [1, 3], axis=0))"
   ]
  },
  {
   "cell_type": "code",
   "execution_count": 15,
   "metadata": {},
   "outputs": [
    {
     "name": "stdout",
     "output_type": "stream",
     "text": [
      "array \"b\"\n",
      "[[1 0 1 0 2 3]\n",
      " [1 3 0 1 2 0]\n",
      " [0 1 0 0 1 3]]\n",
      "\n",
      "Values appended to array \"b\" along axis 0\n",
      "[[1 0 1 0 2 3]\n",
      " [1 3 0 1 2 0]\n",
      " [0 1 0 0 1 3]\n",
      " [1 2 3 4 5 6]]\n",
      "\n",
      "Values appended to array \"b\" along axis 1\n",
      "[[1 0 1 0 2 3 7]\n",
      " [1 3 0 1 2 0 8]\n",
      " [0 1 0 0 1 3 9]]\n",
      "\n",
      "Scalar values inserted to array \"b\" in column position 2\n",
      "[[1 0 5 1 0 2 3]\n",
      " [1 3 5 0 1 2 0]\n",
      " [0 1 5 0 0 1 3]]\n",
      "\n",
      "Column vector inserted to array \"b\" in column position 1\n",
      "[[1 1 0 1 0 2 3]\n",
      " [1 2 3 0 1 2 0]\n",
      " [0 3 1 0 0 1 3]]\n",
      "\n",
      "Row deleted from array \"b\"\n",
      "[[1 0 1 0 2 3]\n",
      " [0 1 0 0 1 3]]\n",
      "\n",
      "Column deleted from array \"b\"\n",
      "[[1 0 0 2 3]\n",
      " [1 3 1 2 0]\n",
      " [0 1 0 1 3]]\n"
     ]
    }
   ],
   "source": [
    "# 2d array \"b\"\n",
    "print('array \"b\"')\n",
    "print(b)\n",
    "print()\n",
    " \n",
    "# Append row of values to the end of a 2darray\n",
    "# Notice that the argument itself is a 2D array.\n",
    "print('Values appended to array \"b\" along axis 0')\n",
    "print(np.append(b, [[1, 2, 3, 4, 5, 6]], axis=0))\n",
    "print()\n",
    " \n",
    "# Append column of values to the end of a 2darray\n",
    "print('Values appended to array \"b\" along axis 1')\n",
    "print(np.append(b, [[7], [8], [9]], axis=1))\n",
    "print()\n",
    " \n",
    "# Insert values (5, 5, 5) along the given axis (1) at the given index (2)\n",
    "print('Scalar values inserted to array \"b\" in column position 2')\n",
    "print(np.insert(b, 2, 5, axis=1))\n",
    "print()\n",
    "# Insert values (1, 2, 3) along the given axis (1) at the given index (1)\n",
    "print('Column vector inserted to array \"b\" in column position 1')\n",
    "print(np.insert(b, [1], [[1],[2],[3]], axis=1))\n",
    "print()\n",
    " \n",
    "# Delete the row/column/array at given locations (1) along an axis (0)\n",
    "print('Row deleted from array \"b\"')\n",
    "print(np.delete(b, 1, axis=0))\n",
    "print()\n",
    " \n",
    "# Delete the row/column/array at given locations (2) along an axis (1)\n",
    "print('Column deleted from array \"b\"')\n",
    "print(np.delete(b, 2, axis=1))"
   ]
  },
  {
   "cell_type": "code",
   "execution_count": null,
   "metadata": {
    "collapsed": true
   },
   "outputs": [],
   "source": []
  }
 ],
 "metadata": {
  "kernelspec": {
   "display_name": "Python 3",
   "language": "python",
   "name": "python3"
  },
  "language_info": {
   "codemirror_mode": {
    "name": "ipython",
    "version": 3
   },
   "file_extension": ".py",
   "mimetype": "text/x-python",
   "name": "python",
   "nbconvert_exporter": "python",
   "pygments_lexer": "ipython3",
   "version": "3.6.1"
  }
 },
 "nbformat": 4,
 "nbformat_minor": 2
}
